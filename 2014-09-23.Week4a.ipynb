{
 "metadata": {
  "name": ""
 },
 "nbformat": 3,
 "nbformat_minor": 0,
 "worksheets": [
  {
   "cells": [
    {
     "cell_type": "markdown",
     "metadata": {},
     "source": [
      "# Week 4a: Using SPARQL in the IPython Notebook\n",
      "\n",
      "Prof Baker  \n",
      "2014-09-23  "
     ]
    },
    {
     "cell_type": "markdown",
     "metadata": {},
     "source": [
      "## Creating data\n",
      "\n",
      "In the IPython Notebook, you need to enclose your data in \"triple quotes\" and assign the data to a variable.  For example, assign it to a variable called *data* with \"*data =*\"."
     ]
    },
    {
     "cell_type": "code",
     "collapsed": false,
     "input": [
      "data = \"\"\"\n",
      "@prefix : <http://example.org/> .\n",
      "\n",
      ":JamesDean              :playedIn           :EastOfEden .\n",
      ":JamesDean              :playedIn           :Giant .\n",
      ":JamesDean              :playedIn           :RebelWithoutACause .\n",
      "\"\"\""
     ],
     "language": "python",
     "metadata": {},
     "outputs": [],
     "prompt_number": 40
    },
    {
     "cell_type": "markdown",
     "metadata": {},
     "source": [
      "Now you want to save that data to your local directory by using the *%store* command.  The directory *data* has already been created.  By using the \"greater than\" symbol (*>*), you will create a new file (if it does not already exist) or over-write the file with your data (if it already exists)."
     ]
    },
    {
     "cell_type": "code",
     "collapsed": false,
     "input": [
      "%store data >data/JamesDean.ttl"
     ],
     "language": "python",
     "metadata": {},
     "outputs": [
      {
       "output_type": "stream",
       "stream": "stdout",
       "text": [
        "Writing 'data' (str) to file 'data/JamesDean.ttl'.\n"
       ]
      }
     ],
     "prompt_number": 41
    },
    {
     "cell_type": "markdown",
     "metadata": {},
     "source": [
      "## Basic pattern of \"SELECT\" queries\n",
      "\n",
      "**SELECT**: the answer you are looking for  \n",
      "**WHERE**: a graph pattern - a pattern matched against the graph data\n",
      "\n",
      "In the IPython Notebook, a SPARQL query must be enclosed in single quotes:\n",
      "\n",
      "    %%script bash                       # This will run in the \"shell\"\n",
      "    sparql --data data/JamesDean.ttl '  # Single quote starts the query\n",
      "    PREFIX ...                          # Make sure your prefix is correct!\n",
      "    SELECT ...                          # The answer you are seeking\n",
      "    WHERE { ... }                       # Graph pattern in curly brackets\n",
      "    '                                   # Single quote ends the query"
     ]
    },
    {
     "cell_type": "code",
     "collapsed": false,
     "input": [
      "%%script bash\n",
      "sparql --data data/JamesDean.ttl '\n",
      "PREFIX : <http://example.org/>\n",
      "SELECT ?what WHERE { :JamesDean :playedIn ?what .  }'"
     ],
     "language": "python",
     "metadata": {},
     "outputs": [
      {
       "output_type": "stream",
       "stream": "stdout",
       "text": [
        "-----------------------\n",
        "| what                |\n",
        "=======================\n",
        "| :RebelWithoutACause |\n",
        "| :Giant              |\n",
        "| :EastOfEden         |\n",
        "-----------------------\n"
       ]
      }
     ],
     "prompt_number": 47
    },
    {
     "cell_type": "markdown",
     "metadata": {},
     "source": [
      "### Pay close attention to the following details!\n",
      "\n",
      "* In the **query**, the *PREFIX* declaration ***does not*** end with a period (\".\")\n",
      "* In the **data**, the *@prefix* declaration ***does*** end with a period (\".\")\n",
      "* If the declared prefix is not correct, nothing will work (note the closing slash in *http://example.org/*!)"
     ]
    },
    {
     "cell_type": "code",
     "collapsed": false,
     "input": [
      "moredata = \"\"\"\n",
      ":RebelWithoutACause     :directedBy         :NicholasRay .\n",
      ":Giant                  :directedBy         :GeorgeStevens .\n",
      ":Giant                  :directedBy         :FredGuiol .\n",
      ":EastOfEden             :directedBy         :EliaKazan .\n",
      "\"\"\""
     ],
     "language": "python",
     "metadata": {},
     "outputs": [],
     "prompt_number": 43
    },
    {
     "cell_type": "markdown",
     "metadata": {},
     "source": [
      "### Append data to your data file with two \"greater than\" symbols"
     ]
    },
    {
     "cell_type": "code",
     "collapsed": false,
     "input": [
      "%store moredata >>data/JamesDean.ttl"
     ],
     "language": "python",
     "metadata": {},
     "outputs": [
      {
       "output_type": "stream",
       "stream": "stdout",
       "text": [
        "Writing 'moredata' (str) to file 'data/JamesDean.ttl'.\n"
       ]
      }
     ],
     "prompt_number": 44
    },
    {
     "cell_type": "markdown",
     "metadata": {},
     "source": [
      "### Check your data with \"cat\""
     ]
    },
    {
     "cell_type": "code",
     "collapsed": false,
     "input": [
      "!cat data/JamesDean.ttl"
     ],
     "language": "python",
     "metadata": {},
     "outputs": [
      {
       "output_type": "stream",
       "stream": "stdout",
       "text": [
        "\r\n",
        "@prefix : <http://example.org/> .\r\n",
        "\r\n",
        ":JamesDean              :playedIn           :EastOfEden .\r\n",
        ":JamesDean              :playedIn           :Giant .\r\n",
        ":JamesDean              :playedIn           :RebelWithoutACause .\r\n",
        "\r\n",
        ":RebelWithoutACause     :directedBy         :NicholasRay .\r\n",
        ":Giant                  :directedBy         :GeorgeStevens .\r\n",
        ":Giant                  :directedBy         :FredGuiol .\r\n",
        ":EastOfEden             :directedBy         :EliaKazan .\r\n"
       ]
      }
     ],
     "prompt_number": 45
    },
    {
     "cell_type": "markdown",
     "metadata": {},
     "source": [
      "### Format more complex queries for readability"
     ]
    },
    {
     "cell_type": "code",
     "collapsed": false,
     "input": [
      "%%script bash\n",
      "sparql --data data/JamesDean.ttl '\n",
      "PREFIX : <http://example.org/>\n",
      "SELECT ?who\n",
      "WHERE { \n",
      "        :JamesDean :playedIn ?what . \n",
      "        ?what   :directedBy ?who .\n",
      "      }'"
     ],
     "language": "python",
     "metadata": {},
     "outputs": [
      {
       "output_type": "stream",
       "stream": "stdout",
       "text": [
        "------------------\n",
        "| who            |\n",
        "==================\n",
        "| :NicholasRay   |\n",
        "| :FredGuiol     |\n",
        "| :GeorgeStevens |\n",
        "| :EliaKazan     |\n",
        "------------------\n"
       ]
      }
     ],
     "prompt_number": 49
    }
   ],
   "metadata": {}
  }
 ]
}