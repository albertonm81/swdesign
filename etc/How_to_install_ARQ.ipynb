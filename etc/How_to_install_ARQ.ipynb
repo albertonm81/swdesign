{
 "metadata": {
  "name": "",
  "signature": "sha256:0021ca08d64909417556e55608bb67794e64b4794ae293d2d1d07f1226d61b27"
 },
 "nbformat": 3,
 "nbformat_minor": 0,
 "worksheets": [
  {
   "cells": [
    {
     "cell_type": "markdown",
     "metadata": {},
     "source": [
      "# Install ARQ and set $PATH\n",
      "## Step 1: Download ARQ packages and unarchive"
     ]
    },
    {
     "cell_type": "code",
     "collapsed": false,
     "input": [
      "!wget http://apache.mirror.cdnetworks.com//jena/binaries/apache-jena-2.12.0.tar.gz && tar -xvzf apache-jena-2.12.0.tar.gz && rm ~/apache-jena-2.12.0.tar.gz"
     ],
     "language": "python",
     "metadata": {},
     "outputs": []
    },
    {
     "cell_type": "markdown",
     "metadata": {},
     "source": [
      "## Step 2: Add ARQ path to $PATH"
     ]
    },
    {
     "cell_type": "code",
     "collapsed": false,
     "input": [
      "!echo 'export PATH=~/apache-jena-2.12.0/bin:$PATH' >> ~/.bashrc"
     ],
     "language": "python",
     "metadata": {},
     "outputs": [],
     "prompt_number": 8
    },
    {
     "cell_type": "markdown",
     "metadata": {},
     "source": [
      "## Step 3: Source .bashrc"
     ]
    },
    {
     "cell_type": "code",
     "collapsed": false,
     "input": [
      "!source ~/.bashrc && echo $PATH"
     ],
     "language": "python",
     "metadata": {},
     "outputs": []
    }
   ],
   "metadata": {}
  }
 ]
}