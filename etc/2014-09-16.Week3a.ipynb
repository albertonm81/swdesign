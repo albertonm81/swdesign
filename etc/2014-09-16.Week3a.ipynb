{
 "metadata": {
  "name": ""
 },
 "nbformat": 3,
 "nbformat_minor": 0,
 "worksheets": [
  {
   "cells": [
    {
     "cell_type": "markdown",
     "metadata": {
      "slideshow": {
       "slide_type": "slide"
      }
     },
     "source": [
      "# \"Tell-and-ask\" using SPARQL\n",
      "\n",
      "2014-09-16 class  \n",
      "\n",
      "The objectives of today's class are:\n",
      "\n",
      "* To set up iPython Notebook\n",
      "* To learn how to use iPython Notebook\n",
      "* To create some simple data (\"tell\")\n",
      "* To make a simple data query (\"ask\")"
     ]
    },
    {
     "cell_type": "code",
     "collapsed": false,
     "input": [
      "mydata = \"\"\"\n",
      "@prefix : <http://example.org/> .\n",
      "\n",
      ":BookA :hasTopic    :Grasshoppers .\n",
      ":BookB :hasTopic    :Beetles .\n",
      ":BookA :hasAuthor   :ScientistP .\n",
      ":BookB :hasAuthor   :ScientistQ .\n",
      ":BookC :hasTopic    :Mosquitos .\n",
      ":BookC :hasAuthor   :ScientistP .\n",
      ":BookD :hasTopic    :Beetles .\n",
      ":BookD :hasAuthor   :ScientistP .\n",
      "\"\"\""
     ],
     "language": "python",
     "metadata": {
      "slideshow": {
       "slide_type": "slide"
      }
     },
     "outputs": [],
     "prompt_number": 8
    },
    {
     "cell_type": "markdown",
     "metadata": {
      "slideshow": {
       "slide_type": "slide"
      }
     },
     "source": [
      "### Save the data as a file \"mydata.n3\"\n",
      "\n",
      "This is done by saving the contents of the variable \"mydata\" (which you created above), using a command \"%store\", to a file in your local file system called \"mydata.n3\".\n",
      "\n",
      "If \"mydata.n3\" already exists and contains data, its contents will be over-written by the value of \"mydata\".  Therefore, if you change the data in the cell above (which starts with \"mydata =\"), re-execute the cell, then re-execute the \"%store...\" cell, the file named \"mydata.n3\" will be over-written with the changed contents of \"mydata\"."
     ]
    },
    {
     "cell_type": "code",
     "collapsed": false,
     "input": [
      "%store mydata >mydata.n3"
     ],
     "language": "python",
     "metadata": {
      "slideshow": {
       "slide_type": "subslide"
      }
     },
     "outputs": [
      {
       "output_type": "stream",
       "stream": "stdout",
       "text": [
        "Writing 'mydata' (str) to file 'mydata.n3'.\n"
       ]
      }
     ],
     "prompt_number": 9
    },
    {
     "cell_type": "code",
     "collapsed": false,
     "input": [],
     "language": "python",
     "metadata": {},
     "outputs": []
    },
    {
     "cell_type": "markdown",
     "metadata": {
      "slideshow": {
       "slide_type": "subslide"
      }
     },
     "source": [
      "### To verify the contents of \"mydata.n3\"\n",
      "\n",
      "You can paste the contents of \"mydata.n3\" into your notebook with the following command..."
     ]
    },
    {
     "cell_type": "code",
     "collapsed": false,
     "input": [
      "!cat mydata.n3"
     ],
     "language": "python",
     "metadata": {
      "slideshow": {
       "slide_type": "subslide"
      }
     },
     "outputs": [
      {
       "output_type": "stream",
       "stream": "stdout",
       "text": [
        "\r\n",
        "@prefix : <http://example.org/> .\r\n",
        "\r\n",
        ":BookA :hasTopic    :Grasshoppers .\r\n",
        ":BookB :hasTopic    :Beetles .\r\n",
        ":BookA :hasAuthor   :ScientistP .\r\n",
        ":BookB :hasAuthor   :ScientistQ .\r\n",
        ":BookC :hasTopic    :Mosquitos .\r\n",
        ":BookC :hasAuthor   :ScientistP .\r\n",
        ":BookD :hasTopic    :Beetles .\r\n",
        ":BookD :hasAuthor   :ScientistP .\r\n"
       ]
      }
     ],
     "prompt_number": 10
    },
    {
     "cell_type": "code",
     "collapsed": false,
     "input": [
      "%%script bash\n",
      "arq --data mydata.n3 '\n",
      "PREFIX : <http://example.org/>\n",
      "        \n",
      "CONSTRUCT\n",
      "WHERE { \n",
      "        ?s ?p ?o .\n",
      "      }\n",
      "'"
     ],
     "language": "python",
     "metadata": {
      "slideshow": {
       "slide_type": "slide"
      }
     },
     "outputs": [
      {
       "output_type": "stream",
       "stream": "stdout",
       "text": [
        "@prefix :      <http://example.org/> .\n",
        "\n",
        ":BookC  :hasAuthor  :ScientistP ;\n",
        "        :hasTopic   :Mosquitos .\n",
        "\n",
        ":BookB  :hasAuthor  :ScientistQ ;\n",
        "        :hasTopic   :Beetles .\n",
        "\n",
        ":BookA  :hasAuthor  :ScientistP ;\n",
        "        :hasTopic   :Grasshoppers .\n",
        "\n",
        ":BookD  :hasAuthor  :ScientistP ;\n",
        "        :hasTopic   :Beetles .\n"
       ]
      }
     ],
     "prompt_number": 13
    },
    {
     "cell_type": "code",
     "collapsed": false,
     "input": [
      "%%script bash\n",
      "arq --data mydata.n3 '\n",
      "PREFIX : <http://example.org/>\n",
      "        \n",
      "SELECT ?author\n",
      "WHERE { \n",
      "        ?book :hasAuthor ?author .\n",
      "      }\n",
      "'"
     ],
     "language": "python",
     "metadata": {
      "slideshow": {
       "slide_type": "slide"
      }
     },
     "outputs": [
      {
       "output_type": "stream",
       "stream": "stdout",
       "text": [
        "---------------\n",
        "| author      |\n",
        "===============\n",
        "| :ScientistP |\n",
        "| :ScientistP |\n",
        "| :ScientistQ |\n",
        "| :ScientistP |\n",
        "---------------\n"
       ]
      }
     ],
     "prompt_number": 14
    }
   ],
   "metadata": {}
  }
 ]
}