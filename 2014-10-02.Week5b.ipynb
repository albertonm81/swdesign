{
 "metadata": {
  "celltoolbar": "Slideshow",
  "name": "",
  "signature": "sha256:bb74f1c392e682e529e06a750fddeff60369d6ac70b06604741140279a373c8d"
 },
 "nbformat": 3,
 "nbformat_minor": 0,
 "worksheets": [
  {
   "cells": [
    {
     "cell_type": "markdown",
     "metadata": {
      "slideshow": {
       "slide_type": "slide"
      }
     },
     "source": [
      "# Week 5b: Starting group projects\n",
      "\n",
      "Prof Baker  \n",
      "Email: <tb12@thbaker.org>   \n",
      "2014-10-02   "
     ]
    },
    {
     "cell_type": "markdown",
     "metadata": {
      "slideshow": {
       "slide_type": "slide"
      }
     },
     "source": [
      "* **Group 1**\n",
      "   * Jo MinHyung\n",
      "   * Lee SoJeong\n",
      "   * Yoon JaeHyuk\n",
      "   * Oh JiHoon\n",
      "\n",
      "* **Group 2**\n",
      "   * Lee SeulKi\n",
      "   * Bae JiHa\n",
      "   * Kim HeeWon\n",
      "\n",
      "* **Group 3**\n",
      "   * Ku HyeJin\n",
      "   * Lee YoungHyun\n",
      "   * Lee HaeRuen\n",
      "\n",
      "* **Group 4**\n",
      "   * Sul HwiLim\n",
      "   * Nam YoungJae\n",
      "   * Lee SooJeong"
     ]
    },
    {
     "cell_type": "markdown",
     "metadata": {
      "slideshow": {
       "slide_type": "slide"
      }
     },
     "source": [
      "## [AGRIS](http://agris.fao.org/openagris)\n",
      "\n",
      "* AGRIS contains more than 7 million bibliographic references on agricultural research and technology & links to related data resources on the Web, like DBPedia, World Bank, Nature, FAO Fisheries and FAO Country profiles.  \n",
      "* Search for any topic and find all available information on one page: on the left side the bibliographic data, on the right the related resources and the option to refine your search. It is that easy."
     ]
    },
    {
     "cell_type": "code",
     "collapsed": false,
     "input": [
      "from IPython.display import HTML\n",
      "HTML('<iframe src=http://agris.fao.org/openagris width=800 height=350></iframe>')"
     ],
     "language": "python",
     "metadata": {
      "slideshow": {
       "slide_type": "fragment"
      }
     },
     "outputs": [
      {
       "html": [
        "<iframe src=http://agris.fao.org/openagris width=800 height=350></iframe>"
       ],
       "metadata": {},
       "output_type": "pyout",
       "prompt_number": 1,
       "text": [
        "<IPython.core.display.HTML at 0x1043781d0>"
       ]
      }
     ],
     "prompt_number": 1
    },
    {
     "cell_type": "markdown",
     "metadata": {
      "slideshow": {
       "slide_type": "slide"
      }
     },
     "source": [
      "### AGRIS focuses on research results (journal articles and reports) but links to maps and statistics"
     ]
    },
    {
     "cell_type": "code",
     "collapsed": false,
     "input": [
      "HTML('<iframe src=http://agris.fao.org/openagris/search.do?recordID=PL2009000495 width=800 height=350></iframe>')"
     ],
     "language": "python",
     "metadata": {
      "slideshow": {
       "slide_type": "fragment"
      }
     },
     "outputs": [
      {
       "html": [
        "<iframe src=http://agris.fao.org/openagris/search.do?recordID=PL2009000495 width=800 height=350></iframe>"
       ],
       "metadata": {},
       "output_type": "pyout",
       "prompt_number": 2,
       "text": [
        "<IPython.core.display.HTML at 0x104378110>"
       ]
      }
     ],
     "prompt_number": 2
    },
    {
     "cell_type": "markdown",
     "metadata": {
      "slideshow": {
       "slide_type": "slide"
      }
     },
     "source": [
      "## [VIVO](http://www.vivoweb.org/)\n",
      "\n",
      "* An interdisciplinary network enabling collaboration and discovery among scientists across all disciplines.\n",
      "* The network of scientists facilitates scholarly discovery.\n",
      "* Institutions participate in the network by installing VIVO, or by providing Semantic Web-compliant data to the network."
     ]
    },
    {
     "cell_type": "code",
     "collapsed": false,
     "input": [
      "HTML('<iframe src=http://www.vivoweb.org width=800 height=350></iframe>')"
     ],
     "language": "python",
     "metadata": {
      "slideshow": {
       "slide_type": "fragment"
      }
     },
     "outputs": [
      {
       "html": [
        "<iframe src=http://www.vivoweb.org width=800 height=350></iframe>"
       ],
       "metadata": {},
       "output_type": "pyout",
       "prompt_number": 3,
       "text": [
        "<IPython.core.display.HTML at 0x104378b10>"
       ]
      }
     ],
     "prompt_number": 3
    },
    {
     "cell_type": "markdown",
     "metadata": {
      "slideshow": {
       "slide_type": "slide"
      }
     },
     "source": [
      "### Try searching the excellent VIVO website at the Cornell University..."
     ]
    },
    {
     "cell_type": "code",
     "collapsed": false,
     "input": [
      "HTML('<iframe src=http://www.cornell.edu/search/?q=fish# width=800 height=350></iframe>')"
     ],
     "language": "python",
     "metadata": {
      "slideshow": {
       "slide_type": "fragment"
      }
     },
     "outputs": [
      {
       "html": [
        "<iframe src=http://www.cornell.edu/search/?q=fish# width=800 height=350></iframe>"
       ],
       "metadata": {},
       "output_type": "pyout",
       "prompt_number": 4,
       "text": [
        "<IPython.core.display.HTML at 0x104378390>"
       ]
      }
     ],
     "prompt_number": 4
    },
    {
     "cell_type": "markdown",
     "metadata": {
      "slideshow": {
       "slide_type": "slide"
      }
     },
     "source": [
      "## [AGROVOC](aims.fao.org/agrovoc)\n",
      "\n",
      "* AGROVOC is a controlled vocabulary covering all areas of interest of the Food and Agriculture Organization (FAO) of the United Nations, including food, nutrition, agriculture, fisheries, forestry, environment etc. It is published by FAO and edited by a community of experts.\n",
      "* AGROVOC consists of over 32,000 concepts available in 21 languages: Arabic, Chinese, Czech, English, French, German, Hindi, Hungarian, Italian, Japanese, Korean, Lao, Persian, Polish, Portuguese, Russian, Slovak, Spanish, Thai, Turkish and Ukrainian.\n",
      "* AGROVOC is used by researchers, librarians and information managers for indexing, retrieving and organizing data in agricultural information systems and Web pages. Currently AGROVOC is an SKOS-XL concept scheme and a Linked Open Data set aligned with 13 other multilingual knowledge organization systems related to agriculture."
     ]
    },
    {
     "cell_type": "code",
     "collapsed": false,
     "input": [
      "HTML('<iframe src=http://aims.fao.org/agrovoc width=800 height=350></iframe>')"
     ],
     "language": "python",
     "metadata": {
      "slideshow": {
       "slide_type": "fragment"
      }
     },
     "outputs": [
      {
       "html": [
        "<iframe src=http://aims.fao.org/agrovoc width=800 height=350></iframe>"
       ],
       "metadata": {},
       "output_type": "pyout",
       "prompt_number": 5,
       "text": [
        "<IPython.core.display.HTML at 0x104378350>"
       ]
      }
     ],
     "prompt_number": 5
    },
    {
     "cell_type": "markdown",
     "metadata": {
      "slideshow": {
       "slide_type": "slide"
      }
     },
     "source": [
      "### Explore the Linked Data representation of AGROVOC"
     ]
    },
    {
     "cell_type": "code",
     "collapsed": false,
     "input": [
      "HTML('<iframe src=http://202.45.139.84:10035/catalogs/fao/repositories/agrovoc width=800 height=350></iframe>')"
     ],
     "language": "python",
     "metadata": {
      "slideshow": {
       "slide_type": "fragment"
      }
     },
     "outputs": [
      {
       "html": [
        "<iframe src=http://202.45.139.84:10035/catalogs/fao/repositories/agrovoc width=800 height=350></iframe>"
       ],
       "metadata": {},
       "output_type": "pyout",
       "prompt_number": 6,
       "text": [
        "<IPython.core.display.HTML at 0x104378450>"
       ]
      }
     ],
     "prompt_number": 6
    },
    {
     "cell_type": "markdown",
     "metadata": {
      "slideshow": {
       "slide_type": "slide"
      }
     },
     "source": [
      "### Look on this page for example SPARQL queries...!"
     ]
    },
    {
     "cell_type": "code",
     "collapsed": false,
     "input": [
      "HTML('<iframe src=http://aims.fao.org/standards/agrovoc/linked-open-data width=800 height=350></iframe>')"
     ],
     "language": "python",
     "metadata": {
      "slideshow": {
       "slide_type": "fragment"
      }
     },
     "outputs": [
      {
       "html": [
        "<iframe src=http://aims.fao.org/standards/agrovoc/linked-open-data width=800 height=350></iframe>"
       ],
       "metadata": {},
       "output_type": "pyout",
       "prompt_number": 7,
       "text": [
        "<IPython.core.display.HTML at 0x104378190>"
       ]
      }
     ],
     "prompt_number": 7
    },
    {
     "cell_type": "markdown",
     "metadata": {
      "slideshow": {
       "slide_type": "slide"
      }
     },
     "source": [
      "## [BBC Wildlife](http://www.bbc.co.uk/nature/wildlife)\n",
      "\n",
      "* \"We aim to give you access to some of the best natural history content in the world - whether that's from the BBC archive, from tonight's TV and radio or right now from the field. We hope you find the content entertaining and informative and enjoy exploring the amazing diversity of the natural world.\"\n",
      "* Provides access to news items, videos, and other BBC content along with relevant links to external sources such as Wikipedia."
     ]
    },
    {
     "cell_type": "markdown",
     "metadata": {
      "slideshow": {
       "slide_type": "slide"
      }
     },
     "source": [
      "## [schema.org](http://schema.org)\n",
      "\n",
      "* \"Schema.org provides a collection of schemas that webmasters can use to markup HTML pages in ways recognized by major search providers, and that can also be used for structured data interoperability (e.g. in JSON).\"\n",
      "* \"Search engines including Bing, Google, Yahoo! and Yandex rely on this markup to improve the display of search results, making it easier for people to find the right Web pages.\""
     ]
    },
    {
     "cell_type": "code",
     "collapsed": false,
     "input": [
      "HTML('<iframe src=http://schema.org width=800 height=350></iframe>')"
     ],
     "language": "python",
     "metadata": {
      "slideshow": {
       "slide_type": "fragment"
      }
     },
     "outputs": [
      {
       "html": [
        "<iframe src=http://schema.org width=800 height=350></iframe>"
       ],
       "metadata": {},
       "output_type": "pyout",
       "prompt_number": 8,
       "text": [
        "<IPython.core.display.HTML at 0x104378250>"
       ]
      }
     ],
     "prompt_number": 8
    },
    {
     "cell_type": "markdown",
     "metadata": {
      "slideshow": {
       "slide_type": "slide"
      }
     },
     "source": [
      "## [DataHub](http://datahub.io/dataset)\n",
      "\n",
      "* Datahub is a free data management platform from the Open Knowledge Foundation, based on the CKAN data management system.\n",
      "* CKAN is a tool for managing and publishing collections of data. It is used by national and local governments, research institutions, and other organisations which collect a lot of data. With its powerful search and faceting, users can browse and find the data they need, and preview it using maps, graphs and tables - whether they are developers, journalists, researchers, NGOs, citizens or your own colleagues.\n",
      "* CKAN is free, open-source software, which has been developed by the Open Knowledge Foundation since 2006 and used by government and organisations around the world. Version 2.0 was released in May 2013.\n",
      "* The Datahub provides free access to many of CKAN's core features, letting you search for data, register published datasets, create and manage groups of datasets, and get updates from datasets and groups you're interested in. "
     ]
    },
    {
     "cell_type": "code",
     "collapsed": false,
     "input": [
      "HTML('<iframe src=http://datahub.io/dataset?q=fish&sort=score+desc%2C+metadata_modified+desc width=800 height=350></iframe>')"
     ],
     "language": "python",
     "metadata": {
      "slideshow": {
       "slide_type": "fragment"
      }
     },
     "outputs": [
      {
       "html": [
        "<iframe src=http://datahub.io/dataset?q=fish&sort=score+desc%2C+metadata_modified+desc width=800 height=350></iframe>"
       ],
       "metadata": {},
       "output_type": "pyout",
       "prompt_number": 9,
       "text": [
        "<IPython.core.display.HTML at 0x104378290>"
       ]
      }
     ],
     "prompt_number": 9
    },
    {
     "cell_type": "markdown",
     "metadata": {
      "slideshow": {
       "slide_type": "slide"
      }
     },
     "source": [
      "# Assignment #2\n",
      "\n",
      "Each **group** should look at all of the resources listed above and describe **three** possible scenarios (or **four** for Group 1) for your final project.\n",
      "\n",
      "1. Your group should start by picking a fish or marine animal, such as *tuna*, *whales*, or *clams*.\n",
      "\n",
      "2. Look at the types of information provided by the resources listed above:\n",
      "   * Do some **AGRIS** searches to see what kind of research has been done, and check out the sidebars to data sources.  Note, for example, that alot of search results have to do with fisheries and fishing methods.\n",
      "   * Do some **VIVO** searches for results that have more to do with experts, academic courses, and events.\n",
      "   * Look at how your the concept for your fish is embedded in a web of agriculture- and fishery-related concepts in **AGROVOC**.\n",
      "   * Check out the news items and videos on **BBC Wildlife**.\n",
      "   * Explore **schema.org** to see what types of structured information are being embedded in Web pages for indexing by search engines such as Google.\n",
      "   * Finally, look for interesting Linked Data datasets on the **DataHub**.\n",
      "\n",
      "3. Within a group, you might decide to divide the task among members of the group.  Each member of the group should log the results of his or her searches in an IPython Notebook.  These notebooks will not be submitted as part of this assignment, but this assignment is just the first step towards completing the group project that will be due in December.\n",
      "\n",
      "4. For this assignment, each group should formulate **three (or four) possible scenarios** for your final project.  Each scenario should about **one paragraph** long.  You will get extra points for thinking of ideas that are interesting and creative!  Each paragraph should:\n",
      "\n",
      "   * State a hypothetical goal, such as: \"We are a foundation concerned with the impact of global warming and over-fishing on coral reefs and with the protection of existing reefs\".\n",
      "   * Set a more specific goal: \"We want to make potential scuba-diving tourists aware of the ecological state of coral reefs and steer them towards countries and tour operators who follow policies that protect their reefs\".\n",
      "   * Describe one way you want to do this, for example: \"We will design a mobile-ready website that makes potential tourists aware of the state of coral reefs and rates tour operators for their environmental impact\".\n",
      "   * Describe three (or four) types of information that will be needed for your app, for example:\n",
      "      * **Descriptions of tour operators**, perhaps with ratings of environmental friendliness.\n",
      "      * **Descriptions of specific coral reefs**, with maps showing coral reefs and nearby fishing areas.\n",
      "      * **News items about coral reefs** describing events or trends related to the reefs.\n",
      "   * Finish the paragraph by giving two or three example queries, such as:\n",
      "      * \"Show me a map of the coral reefs near Koh Mak in the Gulf of Thailand alongside news items related to the reefs\".\n",
      "      * \"Tell me which parts of the reef are good for scuba diving without damage to reefs, and which tour operators are the most environmentally aware.\"\n",
      "   * Do not worry at this point about how the data would be collected or other practical questions.  This exercise is about thinking about different types of data and how that data might be mashed up to answer specific questions."
     ]
    }
   ],
   "metadata": {}
  }
 ]
}