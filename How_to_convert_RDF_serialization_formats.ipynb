{
 "metadata": {
  "name": ""
 },
 "nbformat": 3,
 "nbformat_minor": 0,
 "worksheets": [
  {
   "cells": [
    {
     "cell_type": "markdown",
     "metadata": {},
     "source": [
      "# Convert RDF serialization formats with \"rapper\"\n",
      "\n",
      "This brief tutorial is based on an excellent 2010 [blog post](http://blog.datagraph.org/2010/04/transmuting-ntriples) by Arto Bendiken.\n",
      "\n",
      "## First, make sure \"rapper\" is installed..."
     ]
    },
    {
     "cell_type": "code",
     "collapsed": false,
     "input": [
      "!rapper"
     ],
     "language": "python",
     "metadata": {},
     "outputs": [
      {
       "output_type": "stream",
       "stream": "stdout",
       "text": [
        "Raptor RDF syntax parsing and serializing utility 1.4.21\r\n",
        "Raptor home page: http://librdf.org/raptor/\r\n",
        "Copyright (C) 2000-2010 David Beckett - http://www.dajobe.org/\r\n",
        "Copyright (C) 2000-2005 University of Bristol - http://www.bristol.ac.uk/\r\n",
        "License: LGPL 2.1 or newer, GPL 2 or newer, Apache 2.0 or newer.\r\n",
        "See http://librdf.org/raptor/LICENSE.html for full terms.\r\n",
        "\r\n",
        "Try `rapper --help' for more information.\r\n"
       ]
      }
     ],
     "prompt_number": 18
    },
    {
     "cell_type": "markdown",
     "metadata": {},
     "source": [
      "## Converting a file from Turtle into N-Triples and RDF/XML"
     ]
    },
    {
     "cell_type": "code",
     "collapsed": false,
     "input": [
      "# The example used is Arto Bendiken's FOAF file\n",
      "!curl http://datagraph.org/bendiken/foaf.ttl"
     ],
     "language": "python",
     "metadata": {},
     "outputs": [
      {
       "output_type": "stream",
       "stream": "stdout",
       "text": [
        "@base         <http://datagraph.org/> .\r\n",
        "@prefix rdf:  <http://www.w3.org/1999/02/22-rdf-syntax-ns#> .\r\n",
        "@prefix rdfs: <http://www.w3.org/2000/01/rdf-schema#> .\r\n",
        "@prefix owl:  <http://www.w3.org/2002/07/owl#> .\r\n",
        "@prefix dc:   <http://purl.org/dc/terms/> .\r\n",
        "@prefix foaf: <http://xmlns.com/foaf/0.1/> .\r\n",
        "@prefix doap: <http://usefulinc.com/ns/doap#> .\r\n",
        "\r\n",
        "<bendiken/foaf> a foaf:PersonalProfileDocument ;\r\n",
        "  foaf:maker        <bendiken/#self> ;\r\n",
        "  foaf:primaryTopic <bendiken/#self> ;\r\n",
        "  rdfs:seeAlso      <datagraph/foaf> .\r\n",
        "\r\n",
        "<bendiken/#self> a foaf:Person ;\r\n",
        "  foaf:account      <bendiken> ;\r\n",
        "  foaf:nick         \"bendiken\", \"arto\" ;\r\n",
        "  foaf:name         \"Arto Bendiken\" ;\r\n",
        "  foaf:mbox         <mailto:arto.bendiken@gmail.com> ;\r\n",
        "  foaf:homepage     <http://ar.to/> ;\r\n",
        "  foaf:weblog       <http://ar.to/> ;\r\n",
        "  foaf:knows        <bhuga/#self>, <jhuckabee/#self>, <setf/#self> ;\r\n",
        "  owl:sameAs        <http://ar.to/#self> .\r\n"
       ]
      }
     ],
     "prompt_number": 24
    },
    {
     "cell_type": "code",
     "collapsed": false,
     "input": [
      "# Save the FOAF file locally, in Turtle format, as \"foaf.ttl\"\n",
      "!curl http://datagraph.org/bendiken/foaf.ttl >foaf.ttl 2>/dev/null"
     ],
     "language": "python",
     "metadata": {},
     "outputs": [],
     "prompt_number": 25
    },
    {
     "cell_type": "code",
     "collapsed": false,
     "input": [
      "# Check: Is the file really there?\n",
      "!ls -l foaf.ttl"
     ],
     "language": "python",
     "metadata": {},
     "outputs": [
      {
       "output_type": "stream",
       "stream": "stdout",
       "text": [
        "-rw-rw-r-- 1 skku skku 900 Sep 22 20:12 foaf.ttl\r\n"
       ]
      }
     ],
     "prompt_number": 21
    },
    {
     "cell_type": "code",
     "collapsed": false,
     "input": [
      "# Convert foaf.ttl into N-Triples format\n",
      "!rapper -i turtle -o ntriples foaf.ttl 2>/dev/null"
     ],
     "language": "python",
     "metadata": {},
     "outputs": [
      {
       "output_type": "stream",
       "stream": "stdout",
       "text": [
        "<http://datagraph.org/bendiken/foaf> <http://www.w3.org/1999/02/22-rdf-syntax-ns#type> <http://xmlns.com/foaf/0.1/PersonalProfileDocument> .\r\n",
        "<http://datagraph.org/bendiken/foaf> <http://xmlns.com/foaf/0.1/maker> <http://datagraph.org/bendiken/#self> .\r\n",
        "<http://datagraph.org/bendiken/foaf> <http://xmlns.com/foaf/0.1/primaryTopic> <http://datagraph.org/bendiken/#self> .\r\n",
        "<http://datagraph.org/bendiken/foaf> <http://www.w3.org/2000/01/rdf-schema#seeAlso> <http://datagraph.org/datagraph/foaf> .\r\n",
        "<http://datagraph.org/bendiken/#self> <http://www.w3.org/1999/02/22-rdf-syntax-ns#type> <http://xmlns.com/foaf/0.1/Person> .\r\n",
        "<http://datagraph.org/bendiken/#self> <http://xmlns.com/foaf/0.1/account> <http://datagraph.org/bendiken> .\r\n",
        "<http://datagraph.org/bendiken/#self> <http://xmlns.com/foaf/0.1/nick> \"bendiken\" .\r\n",
        "<http://datagraph.org/bendiken/#self> <http://xmlns.com/foaf/0.1/nick> \"arto\" .\r\n",
        "<http://datagraph.org/bendiken/#self> <http://xmlns.com/foaf/0.1/name> \"Arto Bendiken\" .\r\n",
        "<http://datagraph.org/bendiken/#self> <http://xmlns.com/foaf/0.1/mbox> <mailto:arto.bendiken@gmail.com> .\r\n",
        "<http://datagraph.org/bendiken/#self> <http://xmlns.com/foaf/0.1/homepage> <http://ar.to/> .\r\n",
        "<http://datagraph.org/bendiken/#self> <http://xmlns.com/foaf/0.1/weblog> <http://ar.to/> .\r\n",
        "<http://datagraph.org/bendiken/#self> <http://xmlns.com/foaf/0.1/knows> <http://datagraph.org/bhuga/#self> .\r\n",
        "<http://datagraph.org/bendiken/#self> <http://xmlns.com/foaf/0.1/knows> <http://datagraph.org/jhuckabee/#self> .\r\n",
        "<http://datagraph.org/bendiken/#self> <http://xmlns.com/foaf/0.1/knows> <http://datagraph.org/setf/#self> .\r\n",
        "<http://datagraph.org/bendiken/#self> <http://www.w3.org/2002/07/owl#sameAs> <http://ar.to/#self> .\r\n"
       ]
      }
     ],
     "prompt_number": 22
    },
    {
     "cell_type": "code",
     "collapsed": false,
     "input": [
      "# Convert foaf.ttl into RDF/XML format.\n",
      "# Remember, this is the old format that nobody likes because it is unreadable\n",
      "!rapper -i turtle -o rdfxml foaf.ttl 2>/dev/null"
     ],
     "language": "python",
     "metadata": {},
     "outputs": [
      {
       "output_type": "stream",
       "stream": "stdout",
       "text": [
        "<?xml version=\"1.0\" encoding=\"utf-8\"?>\r\n",
        "<rdf:RDF xmlns:dc=\"http://purl.org/dc/terms/\" xmlns:doap=\"http://usefulinc.com/ns/doap#\" xmlns:foaf=\"http://xmlns.com/foaf/0.1/\" xmlns:owl=\"http://www.w3.org/2002/07/owl#\" xmlns:rdf=\"http://www.w3.org/1999/02/22-rdf-syntax-ns#\" xmlns:rdfs=\"http://www.w3.org/2000/01/rdf-schema#\">\r\n",
        "  <rdf:Description rdf:about=\"http://datagraph.org/bendiken/foaf\">\r\n",
        "    <rdf:type rdf:resource=\"http://xmlns.com/foaf/0.1/PersonalProfileDocument\"/>\r\n",
        "  </rdf:Description>\r\n",
        "  <rdf:Description rdf:about=\"http://datagraph.org/bendiken/foaf\">\r\n",
        "    <foaf:maker rdf:resource=\"http://datagraph.org/bendiken/#self\"/>\r\n",
        "  </rdf:Description>\r\n",
        "  <rdf:Description rdf:about=\"http://datagraph.org/bendiken/foaf\">\r\n",
        "    <foaf:primaryTopic rdf:resource=\"http://datagraph.org/bendiken/#self\"/>\r\n",
        "  </rdf:Description>\r\n",
        "  <rdf:Description rdf:about=\"http://datagraph.org/bendiken/foaf\">\r\n",
        "    <rdfs:seeAlso rdf:resource=\"http://datagraph.org/datagraph/foaf\"/>\r\n",
        "  </rdf:Description>\r\n",
        "  <rdf:Description rdf:about=\"http://datagraph.org/bendiken/#self\">\r\n",
        "    <rdf:type rdf:resource=\"http://xmlns.com/foaf/0.1/Person\"/>\r\n",
        "  </rdf:Description>\r\n",
        "  <rdf:Description rdf:about=\"http://datagraph.org/bendiken/#self\">\r\n",
        "    <foaf:account rdf:resource=\"http://datagraph.org/bendiken\"/>\r\n",
        "  </rdf:Description>\r\n",
        "  <rdf:Description rdf:about=\"http://datagraph.org/bendiken/#self\">\r\n",
        "    <foaf:nick>bendiken</foaf:nick>\r\n",
        "  </rdf:Description>\r\n",
        "  <rdf:Description rdf:about=\"http://datagraph.org/bendiken/#self\">\r\n",
        "    <foaf:nick>arto</foaf:nick>\r\n",
        "  </rdf:Description>\r\n",
        "  <rdf:Description rdf:about=\"http://datagraph.org/bendiken/#self\">\r\n",
        "    <foaf:name>Arto Bendiken</foaf:name>\r\n",
        "  </rdf:Description>\r\n",
        "  <rdf:Description rdf:about=\"http://datagraph.org/bendiken/#self\">\r\n",
        "    <foaf:mbox rdf:resource=\"mailto:arto.bendiken@gmail.com\"/>\r\n",
        "  </rdf:Description>\r\n",
        "  <rdf:Description rdf:about=\"http://datagraph.org/bendiken/#self\">\r\n",
        "    <foaf:homepage rdf:resource=\"http://ar.to/\"/>\r\n",
        "  </rdf:Description>\r\n",
        "  <rdf:Description rdf:about=\"http://datagraph.org/bendiken/#self\">\r\n",
        "    <foaf:weblog rdf:resource=\"http://ar.to/\"/>\r\n",
        "  </rdf:Description>\r\n",
        "  <rdf:Description rdf:about=\"http://datagraph.org/bendiken/#self\">\r\n",
        "    <foaf:knows rdf:resource=\"http://datagraph.org/bhuga/#self\"/>\r\n",
        "  </rdf:Description>\r\n",
        "  <rdf:Description rdf:about=\"http://datagraph.org/bendiken/#self\">\r\n",
        "    <foaf:knows rdf:resource=\"http://datagraph.org/jhuckabee/#self\"/>\r\n",
        "  </rdf:Description>\r\n",
        "  <rdf:Description rdf:about=\"http://datagraph.org/bendiken/#self\">\r\n",
        "    <foaf:knows rdf:resource=\"http://datagraph.org/setf/#self\"/>\r\n",
        "  </rdf:Description>\r\n",
        "  <rdf:Description rdf:about=\"http://datagraph.org/bendiken/#self\">\r\n",
        "    <owl:sameAs rdf:resource=\"http://ar.to/#self\"/>\r\n",
        "  </rdf:Description>\r\n",
        "</rdf:RDF>\r\n"
       ]
      }
     ],
     "prompt_number": 23
    }
   ],
   "metadata": {}
  }
 ]
}