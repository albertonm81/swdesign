{
 "metadata": {
  "name": ""
 },
 "nbformat": 3,
 "nbformat_minor": 0,
 "worksheets": [
  {
   "cells": [
    {
     "cell_type": "markdown",
     "metadata": {},
     "source": [
      "# Convert between RDF serialization formats\n",
      "\n",
      "This brief tutorial is based on an excellent 2010 [blog post](http://blog.datagraph.org/2010/04/transmuting-ntriples) by Arto Bendiken.\n",
      "\n",
      "## First, make sure \"rapper\" is installed..."
     ]
    },
    {
     "cell_type": "code",
     "collapsed": false,
     "input": [
      "!rapper"
     ],
     "language": "python",
     "metadata": {},
     "outputs": [
      {
       "output_type": "stream",
       "stream": "stdout",
       "text": [
        "Raptor RDF syntax parsing and serializing utility 1.9.0\r\n",
        "Raptor home page: http://librdf.org/raptor/\r\n",
        "Copyright (C) 2000-2010 David Beckett - http://www.dajobe.org/\r\n",
        "Copyright (C) 2000-2005 University of Bristol - http://www.bristol.ac.uk/\r\n",
        "License: LGPL 2.1 or newer, GPL 2 or newer, Apache 2.0 or newer.\r\n",
        "See http://librdf.org/raptor/LICENSE.html for full terms.\r\n",
        "\r\n",
        "Try `rapper --help' for more information.\r\n"
       ]
      }
     ],
     "prompt_number": 1
    },
    {
     "cell_type": "code",
     "collapsed": false,
     "input": [],
     "language": "python",
     "metadata": {},
     "outputs": []
    }
   ],
   "metadata": {}
  }
 ]
}