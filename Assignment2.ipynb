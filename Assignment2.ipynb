{
 "metadata": {
  "name": "",
  "signature": "sha256:17967edf371a2f404c8d278bfa0ffaa5f082f0335e9f6f90d82c8bf6accd6a7b"
 },
 "nbformat": 3,
 "nbformat_minor": 0,
 "worksheets": [
  {
   "cells": [
    {
     "cell_type": "markdown",
     "metadata": {
      "slideshow": {
       "slide_type": "-"
      }
     },
     "source": [
      "# Assignment #2 - Scenarios for your group's term project\n",
      "\n",
      "T.Baker <tb12@thbaker.org>  \n",
      "2014-10-05  \n",
      "\n",
      "## Due dates\n",
      "\n",
      "* **Tuesday, October 14**\n",
      "   * Come to class prepared to discuss your scenarios in a meeting between your group and the professor.\n",
      "   * The scenarios do not need to be *submitted* in written form until the following Tuesday, but you should come prepared to describe your scenarios and, ideally, you will have decided as a group which scenarios you prefer.\n",
      "   * Each member of the group should be prepared to show me, briefly, what sources they have consulted, as recorded in a Notebook.\n",
      "* **Tuesday, October 21**\n",
      "   * Submit a Notebook, as a group, describing the three (or four) scenarios and indicating which scenario or scenario your group prefers.  For the final project of the semester, your group will focus on only *one* of the scenarios.\n",
      "   * Members of groups will *not* be required to submit their individual Notebooks to fulfill the assignment.\n",
      "\n",
      "## Description of assignment\n",
      "\n",
      "Each **group** should look at all of the resources listed above and describe **three** possible scenarios (or **four** for Group 1) for your final project.\n",
      "\n",
      "1. Your group should start by picking a fish or marine animal, such as *tuna*, *whales*, or *clams*.\n",
      "\n",
      "2. Look at the types of information provided by the resources listed above:\n",
      "   * Do some **AGRIS** searches to see what kind of research has been done, and check out the sidebars to data sources.  Note, for example, that alot of search results have to do with fisheries and fishing methods.\n",
      "   * Do some **VIVO** searches for results that have more to do with experts, academic courses, and events.\n",
      "   * Look at how your the concept for your fish is embedded in a web of agriculture- and fishery-related concepts in **AGROVOC**.\n",
      "   * Check out the news items and videos on **BBC Wildlife**.\n",
      "   * Explore **schema.org** to see what types of structured information are being embedded in Web pages for indexing by search engines such as Google.\n",
      "   * Finally, look for interesting Linked Data datasets on the **DataHub**.\n",
      "\n",
      "3. Within a group, you might decide to divide the task among members of the group.  Each member of the group should log the results of his or her searches in an IPython Notebook.  These notebooks will not be submitted as part of this assignment, but this assignment is just the first step towards completing the group project that will be due in December.\n",
      "\n",
      "4. For this assignment, each group should formulate **three (or four) possible scenarios** for your final project.  Each scenario should about **one paragraph** long.  You will get extra points for thinking of ideas that are interesting and creative!  Each paragraph should:\n",
      "\n",
      "   * State a hypothetical goal, such as: \"We are a foundation concerned with the impact of global warming and over-fishing on coral reefs and with the protection of existing reefs\".\n",
      "   * Set a more specific goal: \"We want to make potential scuba-diving tourists aware of the ecological state of coral reefs and steer them towards countries and tour operators who follow policies that protect their reefs\".\n",
      "   * Describe one way you want to do this, for example: \"We will design a mobile-ready website that makes potential tourists aware of the state of coral reefs and rates tour operators for their environmental impact\".\n",
      "   * Describe three (or four) types of information that will be needed for your app, for example:\n",
      "      * **Descriptions of tour operators**, perhaps with ratings of environmental friendliness.\n",
      "      * **Descriptions of specific coral reefs**, with maps showing coral reefs and nearby fishing areas.\n",
      "      * **News items about coral reefs** describing events or trends related to the reefs.\n",
      "   * Finish the paragraph by giving two or three example queries, such as:\n",
      "      * \"Show me a map of the coral reefs near Koh Mak in the Gulf of Thailand alongside news items related to the reefs\".\n",
      "      * \"Tell me which parts of the reef are good for scuba diving without damage to reefs, and which tour operators are the most environmentally aware.\"\n",
      "   * Do not worry at this point about how the data would be collected or other practical questions.  This exercise is about thinking about different types of data and how that data might be mashed up to answer specific questions."
     ]
    }
   ],
   "metadata": {}
  }
 ]
}