{
 "metadata": {
  "name": ""
 },
 "nbformat": 3,
 "nbformat_minor": 0,
 "worksheets": [
  {
   "cells": [
    {
     "cell_type": "markdown",
     "metadata": {},
     "source": [
      "# Week 5a: More about using SPARQL in the IPython Notebook\n",
      "\n",
      "Prof Baker  \n",
      "Email: <tb12@thbaker.org>   \n",
      "2014-09-30  "
     ]
    },
    {
     "cell_type": "markdown",
     "metadata": {
      "slideshow": {
       "slide_type": "slide"
      }
     },
     "source": [
      "## *Reminder*: Assignment - due Thursday, 2 October\n",
      "\n",
      "1. Create an IPython notebook \n",
      "\n",
      "\n",
      "2. Put some simple RDF data into your notebook (and save it locally to disk).  For the data:\n",
      "\n",
      "   * Pick a movie director on [Internet Movie Database](http://imdb.com)\n",
      "   * Describe the director\n",
      "   * Describe three movies directed\n",
      "   * For each of the three movies, describe two actors or actresses who play in the movie\n",
      "\n",
      "3. Using SPARQL, formulate queries to answer the following questions:\n",
      "\n",
      "   * What movies did the directors direct?\n",
      "   * What actors played in the first of the three movies?\n",
      "   \n",
      "4. Submit the .ipynb file to Dr Baker as an email attachment before 10:30 on Thursday, October 2\n",
      "\n",
      "   * Use email address tb12@thbaker.org\n",
      "   * Name the file with the date due, a period, and your name - with *no spaces*\n",
      "      * Example: **2014-10-02.LeeSooJeong.ipynb**\n",
      "   * Put \"[SWDESIGN]\" and the name of the notebook into the Subject line:\n",
      "      * Subject: **[SWDESIGN] 2014-10-02.LeeSooJeong.ipynb**\n"
     ]
    },
    {
     "cell_type": "markdown",
     "metadata": {
      "slideshow": {
       "slide_type": "slide"
      }
     },
     "source": [
      "## Review: Logging in and starting IPython Notebook\n",
      "\n",
      "* Start VirtualBox\n",
      "* Press *Run* to run Ubuntu for IPython Notebook\n",
      "* Log in\n",
      "   * login: **skku**\n",
      "   * Password: **1234**\n",
      "* Ensure that you are in the directory *swdesign*\n",
      "   * If in doubt, type **cd /home/skku/swdesign**\n",
      "* Run **notebook**\n",
      "* Point your browser to http://192.168.56.100:8888/\n",
      "* Open this week's notebook, **2014-09-30.Week5a**\n",
      "   * *Remember, whenever you open a notebook from Dr Baker, make a copy with* **File => Make a Copy**\n",
      "   * Once you make a copy, you should feel free to change the data or the queries. Experiment!  If something goes wrong, you can close the Notebook and return to the original version\n",
      "   * Note that if something goes wrong with the data, you can start from the top and run each cell again"
     ]
    },
    {
     "cell_type": "markdown",
     "metadata": {
      "slideshow": {
       "slide_type": "slide"
      }
     },
     "source": [
      "## Review: Creating data\n",
      "\n",
      "In the IPython Notebook, you need to enclose your data in \"triple quotes\" and assign the data to a variable.  For example, assign it to a variable called *data* with \"*data =*\".\n",
      "\n",
      "Then save that data to your local directory by using the *%store* command.  The directory *data* has already been created.  By using the \"greater than\" symbol (*>*), you will create a new file (if it does not already exist) or over-write the file with your data (if it already exists)."
     ]
    },
    {
     "cell_type": "code",
     "collapsed": false,
     "input": [
      "data = \"\"\"\n",
      "@prefix : <http://example.org/> .\n",
      "@prefix rdf: <http://www.w3.org/1999/02/22-rdf-syntax-ns#> .\n",
      "@prefix foaf: <http://xmlns.com/foaf/0.1/> .\n",
      "@prefix rdfs: <http://www.w3.org/2000/01/rdf-schema#> .\n",
      "\n",
      ":JamesDean              :playedIn           :EastOfEden .\n",
      ":JamesDean              :playedIn           :Giant .\n",
      ":JamesDean              :playedIn           :RebelWithoutACause .\n",
      "\"\"\"\n",
      "\n",
      "%store data >JamesDean.ttl"
     ],
     "language": "python",
     "metadata": {
      "slideshow": {
       "slide_type": "subslide"
      }
     },
     "outputs": [
      {
       "output_type": "stream",
       "stream": "stdout",
       "text": [
        "Writing 'data' (str) to file 'JamesDean.ttl'.\n"
       ]
      }
     ],
     "prompt_number": 274
    },
    {
     "cell_type": "markdown",
     "metadata": {
      "slideshow": {
       "slide_type": "slide"
      }
     },
     "source": [
      "## Review: Basic pattern of \"SELECT\" queries\n",
      "\n",
      "**SELECT**: the answer you are looking for  \n",
      "**WHERE**: a graph pattern - a pattern matched against the graph data\n",
      "\n",
      "In the IPython Notebook, a SPARQL query must be enclosed in single quotes:\n",
      "\n",
      "    %%script bash                       # This will run in the \"shell\"\n",
      "    sparql --data JamesDean.ttl '       # Single quote starts the query\n",
      "    PREFIX ...                          # Make sure your prefix is correct!\n",
      "    SELECT ...                          # The answer you are seeking\n",
      "    WHERE { ... }                       # Graph pattern in curly brackets\n",
      "    '                                   # Single quote ends the query"
     ]
    },
    {
     "cell_type": "markdown",
     "metadata": {
      "slideshow": {
       "slide_type": "slide"
      }
     },
     "source": [
      "### What movies did James Dean play in?"
     ]
    },
    {
     "cell_type": "code",
     "collapsed": false,
     "input": [
      "%%script bash\n",
      "sparql --data JamesDean.ttl '\n",
      "PREFIX : <http://example.org/>\n",
      "SELECT ?what WHERE { :JamesDean :playedIn ?what .  }'"
     ],
     "language": "python",
     "metadata": {
      "slideshow": {
       "slide_type": "subslide"
      }
     },
     "outputs": [
      {
       "output_type": "stream",
       "stream": "stdout",
       "text": [
        "-----------------------\n",
        "| what                |\n",
        "=======================\n",
        "| :RebelWithoutACause |\n",
        "| :Giant              |\n",
        "| :EastOfEden         |\n",
        "-----------------------\n"
       ]
      }
     ],
     "prompt_number": 275
    },
    {
     "cell_type": "markdown",
     "metadata": {
      "slideshow": {
       "slide_type": "slide"
      }
     },
     "source": [
      "#### Pay close attention to the following details!\n",
      "\n",
      "* In the **query**, the *PREFIX* declaration ***does not*** end with a period (\".\")\n",
      "* In the **data**, the *@prefix* declaration ***does*** end with a period (\".\")\n",
      "* If the declared prefix is not correct, nothing will work (note the closing slash in *http://example.org/*!)"
     ]
    },
    {
     "cell_type": "markdown",
     "metadata": {
      "slideshow": {
       "slide_type": "slide"
      }
     },
     "source": [
      "### How to add data"
     ]
    },
    {
     "cell_type": "markdown",
     "metadata": {
      "slideshow": {
       "slide_type": "subslide"
      }
     },
     "source": [
      "#### Create more data and append it to your data file with two \"greater than\" symbols"
     ]
    },
    {
     "cell_type": "code",
     "collapsed": false,
     "input": [
      "moredata = \"\"\"\n",
      ":RebelWithoutACause     :directedBy         :NicholasRay .\n",
      ":Giant                  :directedBy         :GeorgeStevens .\n",
      ":Giant                  :directedBy         :FredGuiol .\n",
      ":EastOfEden             :directedBy         :EliaKazan .\n",
      "\"\"\"\n",
      "\n",
      "%store moredata >>JamesDean.ttl"
     ],
     "language": "python",
     "metadata": {
      "slideshow": {
       "slide_type": "subslide"
      }
     },
     "outputs": [
      {
       "output_type": "stream",
       "stream": "stdout",
       "text": [
        "Writing 'moredata' (str) to file 'JamesDean.ttl'.\n"
       ]
      }
     ],
     "prompt_number": 276
    },
    {
     "cell_type": "markdown",
     "metadata": {
      "slideshow": {
       "slide_type": "slide"
      }
     },
     "source": [
      "#### Check your data with \"cat\""
     ]
    },
    {
     "cell_type": "code",
     "collapsed": false,
     "input": [
      "!cat JamesDean.ttl"
     ],
     "language": "python",
     "metadata": {
      "slideshow": {
       "slide_type": "subslide"
      }
     },
     "outputs": [
      {
       "output_type": "stream",
       "stream": "stdout",
       "text": [
        "\r\n",
        "@prefix : <http://example.org/> .\r\n",
        "@prefix rdf: <http://www.w3.org/1999/02/22-rdf-syntax-ns#> .\r\n",
        "@prefix foaf: <http://xmlns.com/foaf/0.1/> .\r\n",
        "@prefix rdfs: <http://www.w3.org/2000/01/rdf-schema#> .\r\n",
        "\r\n",
        ":JamesDean              :playedIn           :EastOfEden .\r\n",
        ":JamesDean              :playedIn           :Giant .\r\n",
        ":JamesDean              :playedIn           :RebelWithoutACause .\r\n",
        "\r\n",
        ":RebelWithoutACause     :directedBy         :NicholasRay .\r\n",
        ":Giant                  :directedBy         :GeorgeStevens .\r\n",
        ":Giant                  :directedBy         :FredGuiol .\r\n",
        ":EastOfEden             :directedBy         :EliaKazan .\r\n"
       ]
      }
     ],
     "prompt_number": 277
    },
    {
     "cell_type": "markdown",
     "metadata": {
      "slideshow": {
       "slide_type": "slide"
      }
     },
     "source": [
      "### Who directed movies with James Dean?"
     ]
    },
    {
     "cell_type": "code",
     "collapsed": false,
     "input": [
      "%%script bash\n",
      "sparql --data JamesDean.ttl '\n",
      "PREFIX : <http://example.org/>\n",
      "        \n",
      "SELECT ?who\n",
      "WHERE { \n",
      "        :JamesDean :playedIn ?what . \n",
      "        ?what   :directedBy ?who .\n",
      "      }'"
     ],
     "language": "python",
     "metadata": {
      "slideshow": {
       "slide_type": "subslide"
      }
     },
     "outputs": [
      {
       "output_type": "stream",
       "stream": "stdout",
       "text": [
        "------------------\n",
        "| who            |\n",
        "==================\n",
        "| :NicholasRay   |\n",
        "| :FredGuiol     |\n",
        "| :GeorgeStevens |\n",
        "| :EliaKazan     |\n",
        "------------------\n"
       ]
      }
     ],
     "prompt_number": 278
    },
    {
     "cell_type": "markdown",
     "metadata": {
      "slideshow": {
       "slide_type": "slide"
      }
     },
     "source": [
      "### Who directed movies with James Dean, and what were the movies?"
     ]
    },
    {
     "cell_type": "code",
     "collapsed": false,
     "input": [
      "%%script bash\n",
      "sparql --data JamesDean.ttl '\n",
      "PREFIX : <http://example.org/>\n",
      "SELECT ?who ?what\n",
      "WHERE { \n",
      "        :JamesDean :playedIn ?what . \n",
      "        ?what   :directedBy ?who .\n",
      "      }'"
     ],
     "language": "python",
     "metadata": {
      "slideshow": {
       "slide_type": "subslide"
      }
     },
     "outputs": [
      {
       "output_type": "stream",
       "stream": "stdout",
       "text": [
        "----------------------------------------\n",
        "| who            | what                |\n",
        "========================================\n",
        "| :NicholasRay   | :RebelWithoutACause |\n",
        "| :FredGuiol     | :Giant              |\n",
        "| :GeorgeStevens | :Giant              |\n",
        "| :EliaKazan     | :EastOfEden         |\n",
        "----------------------------------------\n"
       ]
      }
     ],
     "prompt_number": 279
    },
    {
     "cell_type": "markdown",
     "metadata": {
      "slideshow": {
       "slide_type": "slide"
      }
     },
     "source": [
      "### Remember, you can use question words that are more specific than **?who** and **?what**"
     ]
    },
    {
     "cell_type": "code",
     "collapsed": false,
     "input": [
      "%%script bash\n",
      "sparql --data JamesDean.ttl '\n",
      "PREFIX : <http://example.org/>\n",
      "SELECT ?movie ?director\n",
      "WHERE { \n",
      "        :JamesDean :playedIn ?movie . \n",
      "        ?movie   :directedBy ?director .\n",
      "      }'"
     ],
     "language": "python",
     "metadata": {
      "slideshow": {
       "slide_type": "subslide"
      }
     },
     "outputs": [
      {
       "output_type": "stream",
       "stream": "stdout",
       "text": [
        "----------------------------------------\n",
        "| movie               | director       |\n",
        "========================================\n",
        "| :RebelWithoutACause | :NicholasRay   |\n",
        "| :Giant              | :FredGuiol     |\n",
        "| :Giant              | :GeorgeStevens |\n",
        "| :EastOfEden         | :EliaKazan     |\n",
        "----------------------------------------\n"
       ]
      }
     ],
     "prompt_number": 280
    },
    {
     "cell_type": "markdown",
     "metadata": {
      "slideshow": {
       "slide_type": "slide"
      }
     },
     "source": [
      "### Adding data about actors and actresses"
     ]
    },
    {
     "cell_type": "code",
     "collapsed": false,
     "input": [
      "moredata = \"\"\"\n",
      ":AnnDoran               :playedIn           :RebelWithoutACause .\n",
      ":NatalieWood            :playedIn           :RebelWithoutACause .\n",
      ":JoVanFleet             :playedIn           :EastOfEden .\n",
      ":JulieHarris            :playedIn           :EastOfEden .\n",
      ":MercedesMcCambridge    :playedIn           :Giant .\n",
      ":CarrollBaker           :playedIn           :Giant .\n",
      ":ElizabethTaylor        :playedIn           :Giant .\n",
      ":RockHudson             :playedIn           :Giant .\n",
      ":AnnDoran               rdf:type            :Woman .\n",
      ":NatalieWood            rdf:type            :Woman .\n",
      ":JoVanFleet             rdf:type            :Woman .\n",
      ":JulieHarris            rdf:type            :Woman .\n",
      ":MercedesMcCambridge    rdf:type            :Woman .\n",
      ":CarrollBaker           rdf:type            :Woman .\n",
      ":ElizabethTaylor        rdf:type            :Woman .\n",
      ":RockHudson             rdf:type            :Man .\n",
      ":JamesDean              rdf:type            :Man .\n",
      "\"\"\"\n",
      "\n",
      "%store moredata >>JamesDean.ttl"
     ],
     "language": "python",
     "metadata": {
      "slideshow": {
       "slide_type": "subslide"
      }
     },
     "outputs": [
      {
       "output_type": "stream",
       "stream": "stdout",
       "text": [
        "Writing 'moredata' (str) to file 'JamesDean.ttl'.\n"
       ]
      }
     ],
     "prompt_number": 281
    },
    {
     "cell_type": "markdown",
     "metadata": {
      "slideshow": {
       "slide_type": "slide"
      }
     },
     "source": [
      "### What actresses played in movies with James Dean?"
     ]
    },
    {
     "cell_type": "code",
     "collapsed": false,
     "input": [
      "%%script bash\n",
      "sparql --data JamesDean.ttl '\n",
      "PREFIX : <http://example.org/>\n",
      "PREFIX rdf: <http://www.w3.org/1999/02/22-rdf-syntax-ns#>\n",
      "        \n",
      "SELECT ?actress ?movie\n",
      "WHERE { \n",
      "        :JamesDean :playedIn ?movie . \n",
      "        ?actress :playedIn ?movie .\n",
      "        ?actress rdf:type :Woman .\n",
      "      }'"
     ],
     "language": "python",
     "metadata": {
      "slideshow": {
       "slide_type": "subslide"
      }
     },
     "outputs": [
      {
       "output_type": "stream",
       "stream": "stdout",
       "text": [
        "----------------------------------------------\n",
        "| actress              | movie               |\n",
        "==============================================\n",
        "| :NatalieWood         | :RebelWithoutACause |\n",
        "| :AnnDoran            | :RebelWithoutACause |\n",
        "| :ElizabethTaylor     | :Giant              |\n",
        "| :CarrollBaker        | :Giant              |\n",
        "| :MercedesMcCambridge | :Giant              |\n",
        "| :JulieHarris         | :EastOfEden         |\n",
        "| :JoVanFleet          | :EastOfEden         |\n",
        "----------------------------------------------\n"
       ]
      }
     ],
     "prompt_number": 282
    },
    {
     "cell_type": "markdown",
     "metadata": {
      "slideshow": {
       "slide_type": "slide"
      }
     },
     "source": [
      "### Note what happens when we leave out the triple **?actress rdf:type :Woman**"
     ]
    },
    {
     "cell_type": "code",
     "collapsed": false,
     "input": [
      "%%script bash\n",
      "sparql --data JamesDean.ttl '\n",
      "PREFIX : <http://example.org/>\n",
      "PREFIX rdf: <http://www.w3.org/1999/02/22-rdf-syntax-ns#>\n",
      "        \n",
      "SELECT ?actress ?movie\n",
      "WHERE { \n",
      "        :JamesDean :playedIn ?movie . \n",
      "        ?actress :playedIn ?movie .\n",
      "      }'"
     ],
     "language": "python",
     "metadata": {
      "slideshow": {
       "slide_type": "subslide"
      }
     },
     "outputs": [
      {
       "output_type": "stream",
       "stream": "stdout",
       "text": [
        "----------------------------------------------\n",
        "| actress              | movie               |\n",
        "==============================================\n",
        "| :NatalieWood         | :RebelWithoutACause |\n",
        "| :AnnDoran            | :RebelWithoutACause |\n",
        "| :JamesDean           | :RebelWithoutACause |\n",
        "| :RockHudson          | :Giant              |\n",
        "| :ElizabethTaylor     | :Giant              |\n",
        "| :CarrollBaker        | :Giant              |\n",
        "| :MercedesMcCambridge | :Giant              |\n",
        "| :JamesDean           | :Giant              |\n",
        "| :JulieHarris         | :EastOfEden         |\n",
        "| :JoVanFleet          | :EastOfEden         |\n",
        "| :JamesDean           | :EastOfEden         |\n",
        "----------------------------------------------\n"
       ]
      }
     ],
     "prompt_number": 283
    },
    {
     "cell_type": "markdown",
     "metadata": {
      "slideshow": {
       "slide_type": "subslide"
      }
     },
     "source": [
      "James Dean and Rock Hudson are listed, even though the variable is called **?actress**."
     ]
    },
    {
     "cell_type": "markdown",
     "metadata": {
      "slideshow": {
       "slide_type": "slide"
      }
     },
     "source": [
      "### Adding data saying that movies are instances of the class Movie"
     ]
    },
    {
     "cell_type": "code",
     "collapsed": false,
     "input": [
      "moredata = \"\"\"\n",
      ":EastOfEden             rdf:type            :Movie .\n",
      ":Giant                  rdf:type            :Movie .\n",
      ":RebelWithoutACause     rdf:type            :Movie .\n",
      ":JamesDean              :playedIn           :PepsiColaCommercial .\n",
      ":PepsiColaCommercial    rdf:type            :TelevisionCommercial .\n",
      "\"\"\"\n",
      "\n",
      "%store moredata >>JamesDean.ttl"
     ],
     "language": "python",
     "metadata": {
      "slideshow": {
       "slide_type": "subslide"
      }
     },
     "outputs": [
      {
       "output_type": "stream",
       "stream": "stdout",
       "text": [
        "Writing 'moredata' (str) to file 'JamesDean.ttl'.\n"
       ]
      }
     ],
     "prompt_number": 284
    },
    {
     "cell_type": "markdown",
     "metadata": {
      "slideshow": {
       "slide_type": "slide"
      }
     },
     "source": [
      "### Adding a triple pattern to the query to tell SPARQL what we really mean by **?movie**.  \n",
      "\n",
      "The triple pattern is **?movie rdf:type :Movie**"
     ]
    },
    {
     "cell_type": "code",
     "collapsed": false,
     "input": [
      "%%script bash\n",
      "sparql --data JamesDean.ttl '\n",
      "PREFIX : <http://example.org/>\n",
      "PREFIX rdf: <http://www.w3.org/1999/02/22-rdf-syntax-ns#>\n",
      "        \n",
      "SELECT ?actress ?movie\n",
      "WHERE { \n",
      "        :JamesDean :playedIn ?movie . \n",
      "        ?movie rdf:type :Movie .\n",
      "        ?actress :playedIn ?movie .\n",
      "        ?actress rdf:type :Woman .\n",
      "      }'"
     ],
     "language": "python",
     "metadata": {
      "slideshow": {
       "slide_type": "subslide"
      }
     },
     "outputs": [
      {
       "output_type": "stream",
       "stream": "stdout",
       "text": [
        "----------------------------------------------\n",
        "| actress              | movie               |\n",
        "==============================================\n",
        "| :NatalieWood         | :RebelWithoutACause |\n",
        "| :AnnDoran            | :RebelWithoutACause |\n",
        "| :ElizabethTaylor     | :Giant              |\n",
        "| :CarrollBaker        | :Giant              |\n",
        "| :MercedesMcCambridge | :Giant              |\n",
        "| :JulieHarris         | :EastOfEden         |\n",
        "| :JoVanFleet          | :EastOfEden         |\n",
        "----------------------------------------------\n"
       ]
      }
     ],
     "prompt_number": 285
    },
    {
     "cell_type": "markdown",
     "metadata": {
      "slideshow": {
       "slide_type": "slide"
      }
     },
     "source": [
      "### Adding data about more actors and directors"
     ]
    },
    {
     "cell_type": "code",
     "collapsed": false,
     "input": [
      "moredata = \"\"\"\n",
      ":NatalieWood            :playedIn           :TheSearchers .\n",
      ":TheSearchers           :directedBy         :JohnFord .\n",
      ":TheSearchers           rdf:type            :Movie .\n",
      ":RaymondMassey          :playedIn           :TheSearchers .\n",
      "\"\"\"\n",
      "\n",
      "%store moredata >>JamesDean.ttl"
     ],
     "language": "python",
     "metadata": {
      "slideshow": {
       "slide_type": "subslide"
      }
     },
     "outputs": [
      {
       "output_type": "stream",
       "stream": "stdout",
       "text": [
        "Writing 'moredata' (str) to file 'JamesDean.ttl'.\n"
       ]
      }
     ],
     "prompt_number": 286
    },
    {
     "cell_type": "markdown",
     "metadata": {
      "slideshow": {
       "slide_type": "slide"
      }
     },
     "source": [
      "### What actresses played in a movie with James Dean ***and also*** in a movie directed by John Ford?"
     ]
    },
    {
     "cell_type": "code",
     "collapsed": false,
     "input": [
      "%%script bash\n",
      "sparql --data JamesDean.ttl '\n",
      "PREFIX : <http://example.org/>\n",
      "PREFIX rdf: <http://www.w3.org/1999/02/22-rdf-syntax-ns#>\n",
      "        \n",
      "SELECT ?actress\n",
      "WHERE { \n",
      "        :JamesDean :playedIn ?movie . \n",
      "        ?movie rdf:type :Movie .\n",
      "        ?actress :playedIn ?movie .\n",
      "        ?actress :playedIn ?anotherMovie .\n",
      "        ?actress rdf:type :Woman .\n",
      "        ?anotherMovie :directedBy :JohnFord .\n",
      "      }'"
     ],
     "language": "python",
     "metadata": {
      "slideshow": {
       "slide_type": "subslide"
      }
     },
     "outputs": [
      {
       "output_type": "stream",
       "stream": "stdout",
       "text": [
        "----------------\n",
        "| actress      |\n",
        "================\n",
        "| :NatalieWood |\n",
        "----------------\n"
       ]
      }
     ],
     "prompt_number": 287
    },
    {
     "cell_type": "markdown",
     "metadata": {
      "slideshow": {
       "slide_type": "slide"
      }
     },
     "source": [
      "### What happens if we change the order of the triple patterns in the SPARQL query?"
     ]
    },
    {
     "cell_type": "code",
     "collapsed": false,
     "input": [
      "%%script bash\n",
      "sparql --data JamesDean.ttl '\n",
      "PREFIX : <http://example.org/>\n",
      "PREFIX rdf: <http://www.w3.org/1999/02/22-rdf-syntax-ns#>\n",
      "        \n",
      "SELECT ?actress\n",
      "WHERE { \n",
      "        ?actress :playedIn ?anotherMovie .\n",
      "        ?movie rdf:type :Movie .\n",
      "        ?actress rdf:type :Woman .\n",
      "        ?actress :playedIn ?movie .\n",
      "        :JamesDean :playedIn ?movie . \n",
      "        ?anotherMovie :directedBy :JohnFord .\n",
      "      }'"
     ],
     "language": "python",
     "metadata": {
      "slideshow": {
       "slide_type": "subslide"
      }
     },
     "outputs": [
      {
       "output_type": "stream",
       "stream": "stdout",
       "text": [
        "----------------\n",
        "| actress      |\n",
        "================\n",
        "| :NatalieWood |\n",
        "----------------\n"
       ]
      }
     ],
     "prompt_number": 288
    },
    {
     "cell_type": "markdown",
     "metadata": {
      "slideshow": {
       "slide_type": "subslide"
      }
     },
     "source": [
      "Answer: The result of the query is the same.  However, in large datasets, the sequence of triple patterns may affect the speed with which the results are obtained."
     ]
    },
    {
     "cell_type": "markdown",
     "metadata": {
      "slideshow": {
       "slide_type": "slide"
      }
     },
     "source": [
      "### Adding  some data about James Dean..."
     ]
    },
    {
     "cell_type": "code",
     "collapsed": false,
     "input": [
      "moredata = \"\"\"\n",
      ":JamesDean              :bornOn             \"1931-02-08\" .\n",
      ":JamesDean              :diedOn             \"1955-09-30\" .\n",
      ":JamesDean              foaf:name           \"James Dean\" .\n",
      "\"\"\"\n",
      "\n",
      "%store moredata >>JamesDean.ttl"
     ],
     "language": "python",
     "metadata": {
      "slideshow": {
       "slide_type": "subslide"
      }
     },
     "outputs": [
      {
       "output_type": "stream",
       "stream": "stdout",
       "text": [
        "Writing 'moredata' (str) to file 'JamesDean.ttl'.\n"
       ]
      }
     ],
     "prompt_number": 289
    },
    {
     "cell_type": "markdown",
     "metadata": {
      "slideshow": {
       "slide_type": "slide"
      }
     },
     "source": [
      "### What do we know about James Dean?"
     ]
    },
    {
     "cell_type": "code",
     "collapsed": false,
     "input": [
      "%%script bash\n",
      "sparql --data JamesDean.ttl '\n",
      "PREFIX : <http://example.org/>\n",
      "PREFIX rdf: <http://www.w3.org/1999/02/22-rdf-syntax-ns#>\n",
      "PREFIX foaf: <http://xmlns.com/foaf/0.1/>\n",
      "        \n",
      "SELECT ?property ?value\n",
      "WHERE { \n",
      "        :JamesDean ?property ?value .\n",
      "      }'"
     ],
     "language": "python",
     "metadata": {
      "slideshow": {
       "slide_type": "subslide"
      }
     },
     "outputs": [
      {
       "output_type": "stream",
       "stream": "stdout",
       "text": [
        "------------------------------------\n",
        "| property  | value                |\n",
        "====================================\n",
        "| foaf:name | \"James Dean\"         |\n",
        "| :diedOn   | \"1955-09-30\"         |\n",
        "| :bornOn   | \"1931-02-08\"         |\n",
        "| :playedIn | :PepsiColaCommercial |\n",
        "| rdf:type  | :Man                 |\n",
        "| :playedIn | :RebelWithoutACause  |\n",
        "| :playedIn | :Giant               |\n",
        "| :playedIn | :EastOfEden          |\n",
        "------------------------------------\n"
       ]
      }
     ],
     "prompt_number": 290
    },
    {
     "cell_type": "markdown",
     "metadata": {
      "slideshow": {
       "slide_type": "slide"
      }
     },
     "source": [
      "### What properties are used to describe James Dean?"
     ]
    },
    {
     "cell_type": "code",
     "collapsed": false,
     "input": [
      "%%script bash\n",
      "sparql --data JamesDean.ttl '\n",
      "PREFIX : <http://example.org/>\n",
      "PREFIX rdf: <http://www.w3.org/1999/02/22-rdf-syntax-ns#>\n",
      "PREFIX foaf: <http://xmlns.com/foaf/0.1/>\n",
      "        \n",
      "SELECT ?property\n",
      "WHERE { \n",
      "        :JamesDean ?property ?value .\n",
      "      }'"
     ],
     "language": "python",
     "metadata": {
      "slideshow": {
       "slide_type": "subslide"
      }
     },
     "outputs": [
      {
       "output_type": "stream",
       "stream": "stdout",
       "text": [
        "-------------\n",
        "| property  |\n",
        "=============\n",
        "| foaf:name |\n",
        "| :diedOn   |\n",
        "| :bornOn   |\n",
        "| :playedIn |\n",
        "| rdf:type  |\n",
        "| :playedIn |\n",
        "| :playedIn |\n",
        "| :playedIn |\n",
        "-------------\n"
       ]
      }
     ],
     "prompt_number": 291
    },
    {
     "cell_type": "markdown",
     "metadata": {
      "slideshow": {
       "slide_type": "slide"
      }
     },
     "source": [
      "Hmm, some properties are repeated.  Let's specify **distinct** properties..."
     ]
    },
    {
     "cell_type": "code",
     "collapsed": false,
     "input": [
      "%%script bash\n",
      "sparql --data JamesDean.ttl '\n",
      "PREFIX : <http://example.org/>\n",
      "PREFIX rdf: <http://www.w3.org/1999/02/22-rdf-syntax-ns#>\n",
      "PREFIX foaf: <http://xmlns.com/foaf/0.1/>\n",
      "        \n",
      "SELECT DISTINCT ?property\n",
      "WHERE { \n",
      "        :JamesDean ?property ?value .\n",
      "      }'"
     ],
     "language": "python",
     "metadata": {
      "slideshow": {
       "slide_type": "subslide"
      }
     },
     "outputs": [
      {
       "output_type": "stream",
       "stream": "stdout",
       "text": [
        "-------------\n",
        "| property  |\n",
        "=============\n",
        "| foaf:name |\n",
        "| :diedOn   |\n",
        "| :bornOn   |\n",
        "| :playedIn |\n",
        "| rdf:type  |\n",
        "-------------\n"
       ]
      }
     ],
     "prompt_number": 292
    },
    {
     "cell_type": "markdown",
     "metadata": {
      "slideshow": {
       "slide_type": "slide"
      }
     },
     "source": [
      "### Adding some more data to say that these people are instances of the class Actor..."
     ]
    },
    {
     "cell_type": "code",
     "collapsed": false,
     "input": [
      "moredata = \"\"\"\n",
      ":JamesDean      rdf:type     :Actor .\n",
      ":JamesDean      rdf:type     :Actor .\n",
      ":JamesDean      rdf:type     :Actor .\n",
      ":AnnDoran      rdf:type     :Actor .\n",
      ":NatalieWood      rdf:type     :Actor .\n",
      ":JoVanFleet      rdf:type     :Actor .\n",
      ":JulieHarris      rdf:type     :Actor .\n",
      ":MercedesMcCambridge      rdf:type     :Actor .\n",
      ":CarrollBaker      rdf:type     :Actor .\n",
      ":ElizabethTaylor      rdf:type     :Actor .\n",
      ":RockHudson      rdf:type     :Actor .\n",
      ":JamesDean      rdf:type     :Actor .\n",
      ":NatalieWood      rdf:type     :Actor .\n",
      ":RaymondMassey      rdf:type     :Actor .\n",
      "\"\"\"\n",
      "\n",
      "%store moredata >>JamesDean.ttl"
     ],
     "language": "python",
     "metadata": {
      "slideshow": {
       "slide_type": "subslide"
      }
     },
     "outputs": [
      {
       "output_type": "stream",
       "stream": "stdout",
       "text": [
        "Writing 'moredata' (str) to file 'JamesDean.ttl'.\n"
       ]
      }
     ],
     "prompt_number": 293
    },
    {
     "cell_type": "markdown",
     "metadata": {
      "slideshow": {
       "slide_type": "slide"
      }
     },
     "source": [
      "### What properties are used to describe actors?"
     ]
    },
    {
     "cell_type": "code",
     "collapsed": false,
     "input": [
      "%%script bash\n",
      "sparql --data JamesDean.ttl '\n",
      "PREFIX : <http://example.org/>\n",
      "PREFIX rdf: <http://www.w3.org/1999/02/22-rdf-syntax-ns#>\n",
      "PREFIX foaf: <http://xmlns.com/foaf/0.1/>\n",
      "        \n",
      "SELECT DISTINCT ?property\n",
      "WHERE { \n",
      "        ?xxx rdf:type :Actor .\n",
      "        ?xxx ?property ?object .\n",
      "      }'"
     ],
     "language": "python",
     "metadata": {
      "slideshow": {
       "slide_type": "subslide"
      }
     },
     "outputs": [
      {
       "output_type": "stream",
       "stream": "stdout",
       "text": [
        "-------------\n",
        "| property  |\n",
        "=============\n",
        "| rdf:type  |\n",
        "| :playedIn |\n",
        "| foaf:name |\n",
        "| :diedOn   |\n",
        "| :bornOn   |\n",
        "-------------\n"
       ]
      }
     ],
     "prompt_number": 294
    },
    {
     "cell_type": "markdown",
     "metadata": {
      "slideshow": {
       "slide_type": "slide"
      }
     },
     "source": [
      "### Adding data describing how the class Actor relates to other classes..."
     ]
    },
    {
     "cell_type": "code",
     "collapsed": false,
     "input": [
      "moredata = \"\"\"\n",
      ":Actor                  rdfs:subClassOf     :Person .\n",
      ":Actress                rdfs:subClassOf     :Person .\n",
      ":Man                    rdfs:subClassOf     :Person .\n",
      ":Woman                  rdfs:subClassOf     :Person .\n",
      ":Politician             rdfs:subClassOf     :Person .\n",
      ":Producer               rdfs:subClassOf     :Person .\n",
      "\"\"\"\n",
      "\n",
      "%store moredata >>JamesDean.ttl"
     ],
     "language": "python",
     "metadata": {
      "slideshow": {
       "slide_type": "subslide"
      }
     },
     "outputs": [
      {
       "output_type": "stream",
       "stream": "stdout",
       "text": [
        "Writing 'moredata' (str) to file 'JamesDean.ttl'.\n"
       ]
      }
     ],
     "prompt_number": 295
    },
    {
     "cell_type": "markdown",
     "metadata": {
      "slideshow": {
       "slide_type": "slide"
      }
     },
     "source": [
      "### What classes are sub-classes of Person?"
     ]
    },
    {
     "cell_type": "code",
     "collapsed": false,
     "input": [
      "%%script bash\n",
      "sparql --data JamesDean.ttl '\n",
      "PREFIX : <http://example.org/>\n",
      "PREFIX rdf: <http://www.w3.org/1999/02/22-rdf-syntax-ns#>\n",
      "PREFIX foaf: <http://xmlns.com/foaf/0.1/>\n",
      "PREFIX rdfs: <http://www.w3.org/2000/01/rdf-schema#>\n",
      "        \n",
      "SELECT DISTINCT ?class\n",
      "WHERE { \n",
      "        ?class rdfs:subClassOf :Person\n",
      "      }'"
     ],
     "language": "python",
     "metadata": {
      "slideshow": {
       "slide_type": "subslide"
      }
     },
     "outputs": [
      {
       "output_type": "stream",
       "stream": "stdout",
       "text": [
        "---------------\n",
        "| class       |\n",
        "===============\n",
        "| :Producer   |\n",
        "| :Politician |\n",
        "| :Woman      |\n",
        "| :Man        |\n",
        "| :Actress    |\n",
        "| :Actor      |\n",
        "---------------\n"
       ]
      }
     ],
     "prompt_number": 296
    },
    {
     "cell_type": "markdown",
     "metadata": {
      "slideshow": {
       "slide_type": "slide"
      }
     },
     "source": [
      "### Question: What properties are used in the data?"
     ]
    },
    {
     "cell_type": "code",
     "collapsed": false,
     "input": [
      "%%script bash\n",
      "sparql --data JamesDean.ttl '\n",
      "PREFIX : <http://example.org/>\n",
      "PREFIX rdf: <http://www.w3.org/1999/02/22-rdf-syntax-ns#>\n",
      "PREFIX foaf: <http://xmlns.com/foaf/0.1/>\n",
      "PREFIX rdfs: <http://www.w3.org/2000/01/rdf-schema#>\n",
      "        \n",
      "SELECT DISTINCT ?property\n",
      "WHERE { \n",
      "        ?xxx ?property ?yyy\n",
      "      }'"
     ],
     "language": "python",
     "metadata": {
      "slideshow": {
       "slide_type": "subslide"
      }
     },
     "outputs": [
      {
       "output_type": "stream",
       "stream": "stdout",
       "text": [
        "-------------------\n",
        "| property        |\n",
        "===================\n",
        "| rdf:type        |\n",
        "| :directedBy     |\n",
        "| rdfs:subClassOf |\n",
        "| foaf:name       |\n",
        "| :diedOn         |\n",
        "| :bornOn         |\n",
        "| :playedIn       |\n",
        "-------------------\n"
       ]
      }
     ],
     "prompt_number": 297
    },
    {
     "cell_type": "markdown",
     "metadata": {
      "slideshow": {
       "slide_type": "subslide"
      }
     },
     "source": [
      "Note that SPARQL question words can match any part of the data (subjects, predicates, or objects).  RDF is said to be \"self-describing\" because the RDF language itself is expressed in RDF triples!"
     ]
    }
   ],
   "metadata": {}
  }
 ]
}