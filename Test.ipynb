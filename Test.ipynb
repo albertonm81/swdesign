{
 "metadata": {
  "name": ""
 },
 "nbformat": 3,
 "nbformat_minor": 0,
 "worksheets": [
  {
   "cells": [
    {
     "cell_type": "markdown",
     "metadata": {},
     "source": [
      "# This is a test. More."
     ]
    },
    {
     "cell_type": "markdown",
     "metadata": {},
     "source": [
      "Making changes in *original* Test.ipynb.  Making extra changes. More and more."
     ]
    }
   ],
   "metadata": {}
  }
 ]
}