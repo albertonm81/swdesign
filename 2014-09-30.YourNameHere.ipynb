{
 "metadata": {
  "name": ""
 },
 "nbformat": 3,
 "nbformat_minor": 0,
 "worksheets": [
  {
   "cells": [
    {
     "cell_type": "markdown",
     "metadata": {},
     "source": [
      "# Example Assignment\n",
      "\n",
      "Your NameHere  \n",
      "Email: <tb12@thbaker.org>   \n",
      "2014-09-30  "
     ]
    },
    {
     "cell_type": "code",
     "collapsed": false,
     "input": [
      "data = \"\"\"\n",
      "@prefix : <http://example.org/> .\n",
      "@prefix rdf: <http://www.w3.org/1999/02/22-rdf-syntax-ns#> .\n",
      "@prefix foaf: <http://xmlns.com/foaf/0.1/> .\n",
      "@prefix rdfs: <http://www.w3.org/2000/01/rdf-schema#> .\n",
      "\n",
      ":JamesDean              :playedIn           :EastOfEden .\n",
      ":JamesDean              :playedIn           :Giant .\n",
      ":JamesDean              :playedIn           :RebelWithoutACause .\n",
      ":RebelWithoutACause     :directedBy         :NicholasRay .\n",
      ":Giant                  :directedBy         :GeorgeStevens .\n",
      ":Giant                  :directedBy         :FredGuiol .\n",
      ":EastOfEden             :directedBy         :EliaKazan .\n",
      ":AnnDoran               :playedIn           :RebelWithoutACause .\n",
      ":NatalieWood            :playedIn           :RebelWithoutACause .\n",
      ":JoVanFleet             :playedIn           :EastOfEden .\n",
      ":JulieHarris            :playedIn           :EastOfEden .\n",
      ":MercedesMcCambridge    :playedIn           :Giant .\n",
      ":CarrollBaker           :playedIn           :Giant .\n",
      ":ElizabethTaylor        :playedIn           :Giant .\n",
      ":RockHudson             :playedIn           :Giant .\n",
      ":EastOfEden             rdf:type            :Movie .\n",
      ":Giant                  rdf:type            :Movie .\n",
      ":RebelWithoutACause     rdf:type            :Movie .\n",
      ":JamesDean              :playedIn           :PepsiColaCommercial .\n",
      ":PepsiColaCommercial    rdf:type            :TelevisionCommercial .\n",
      ":NatalieWood            :playedIn           :TheSearchers .\n",
      ":TheSearchers           :directedBy         :JohnFord .\n",
      ":TheSearchers           rdf:type            :Movie .\n",
      ":RaymondMassey          :playedIn           :TheSearchers .\n",
      ":JamesDean              :bornOn             \"1931-02-08\" .\n",
      ":JamesDean              :diedOn             \"1955-09-30\" .\n",
      ":JamesDean              foaf:name           \"James Dean\" .\n",
      ":JamesDean              rdf:type            :Actor .\n",
      ":JamesDean              rdf:type            :Actor .\n",
      ":JamesDean              rdf:type            :Actor .\n",
      ":AnnDoran               rdf:type            :Actor .\n",
      ":NatalieWood            rdf:type            :Actor .\n",
      ":JoVanFleet             rdf:type            :Actor .\n",
      ":JulieHarris            rdf:type            :Actor .\n",
      ":MercedesMcCambridge    rdf:type            :Actor .\n",
      ":CarrollBaker           rdf:type            :Actor .\n",
      ":ElizabethTaylor        rdf:type            :Actor .\n",
      ":RockHudson             rdf:type            :Actor .\n",
      ":JamesDean              rdf:type            :Actor .\n",
      ":NatalieWood            rdf:type            :Actor .\n",
      ":RaymondMassey          rdf:type            :Actor .\n",
      "\"\"\"\n",
      "\n",
      "%store data >JamesDean.ttl"
     ],
     "language": "python",
     "metadata": {},
     "outputs": [
      {
       "output_type": "stream",
       "stream": "stdout",
       "text": [
        "Writing 'data' (str) to file 'JamesDean.ttl'.\n"
       ]
      }
     ],
     "prompt_number": 14
    },
    {
     "cell_type": "markdown",
     "metadata": {},
     "source": [
      "### What movies did James Dean play in?\n"
     ]
    },
    {
     "cell_type": "code",
     "collapsed": false,
     "input": [
      "%%script bash\n",
      "sparql --data JamesDean.ttl '\n",
      "PREFIX : <http://example.org/>\n",
      "PREFIX rdf: <http://www.w3.org/1999/02/22-rdf-syntax-ns#>\n",
      "\n",
      "SELECT ?what \n",
      "WHERE { \n",
      "       :JamesDean :playedIn ?what .  \n",
      "       ?what rdf:type :Movie .\n",
      "      }'"
     ],
     "language": "python",
     "metadata": {},
     "outputs": [
      {
       "output_type": "stream",
       "stream": "stdout",
       "text": [
        "-----------------------\n",
        "| what                |\n",
        "=======================\n",
        "| :RebelWithoutACause |\n",
        "| :Giant              |\n",
        "| :EastOfEden         |\n",
        "-----------------------\n"
       ]
      }
     ],
     "prompt_number": 15
    },
    {
     "cell_type": "markdown",
     "metadata": {},
     "source": [
      "### What actors played in \"East of Eden\"?"
     ]
    },
    {
     "cell_type": "code",
     "collapsed": false,
     "input": [
      "%%script bash\n",
      "sparql --data JamesDean.ttl '\n",
      "PREFIX : <http://example.org/>\n",
      "PREFIX rdf: <http://www.w3.org/1999/02/22-rdf-syntax-ns#>\n",
      "\n",
      "SELECT ?actor\n",
      "WHERE { \n",
      "       ?actor :playedIn :EastOfEden . \n",
      "      }'"
     ],
     "language": "python",
     "metadata": {},
     "outputs": [
      {
       "output_type": "stream",
       "stream": "stdout",
       "text": [
        "----------------\n",
        "| actor        |\n",
        "================\n",
        "| :JulieHarris |\n",
        "| :JoVanFleet  |\n",
        "| :JamesDean   |\n",
        "----------------\n"
       ]
      }
     ],
     "prompt_number": 16
    }
   ],
   "metadata": {}
  }
 ]
}